{
 "cells": [
  {
   "cell_type": "markdown",
   "metadata": {
    "slideshow": {
     "slide_type": "slide"
    }
   },
   "source": [
    "\n",
    "\n",
    "# Machine Learning Lunch   \n",
    "## June 28, 2017  \n",
    "\n",
    "\n",
    "### Tom Brander http://oswco.com\n",
    "\n"
   ]
  },
  {
   "cell_type": "markdown",
   "metadata": {
    "slideshow": {
     "slide_type": "notes"
    }
   },
   "source": [
    "Best basic book Mainly SciKit Learn https://www.packtpub.com/big-data-and-business-intelligence/python-machine-learning Very useful for all Python ML stuff and algorithims and what to use when and where..\n",
    "This still early release  but the best for Keras (written by the guy who also conceived and wrote the library itself) https://www.manning.com/books/deep-learning-with-python \n",
    "Best book for TensorFlow http://shop.oreilly.com/product/0636920052289.do also conversely SciKit learn, as a method to explain some of the concepts in TF.. Highly recommended.. \n",
    "Most accessible code can be found with Jupyter examples so you want to get that set up on your machine http://jupyter.org/\n",
    "Easiest way to get everything you need and keep up to date is Anaconda https://www.continuum.io/downloads  Includes Jupyter mentioned above as well as Spyder a Python IDE (Win Linux And Mac) Don't even think of doing another way.. (you will thank me!)\n",
    "up front data exploration CSV kit https://csvkit.readthedocs.io/en/1.0.2/ specifically csvstat (lots more there though) including some god transition and report stuff..\n",
    "and I like https://github.com/JosPolfliet/pandas-profiling\n",
    "Oh yes now a days just start with python 3.6 not 2.7 (that will be the default for Anaconda.unless you specifically over-ride I believe)\n",
    "That should keep you busy for a bit!\n",
    "Reach out if you need something..or have a question"
   ]
  },
  {
   "cell_type": "markdown",
   "metadata": {
    "slideshow": {
     "slide_type": "slide"
    }
   },
   "source": [
    "To the unitiated the whole pile of Python stuff looks terribly complicated  \n",
    "To some extent it is  \n",
    "But there has been a ton of work done to bring order out of the apparant chaos! "
   ]
  },
  {
   "cell_type": "markdown",
   "metadata": {
    "slideshow": {
     "slide_type": "slide"
    }
   },
   "source": [
    "# The Libraries  (just a starting point)\n",
    "\n",
    "+ Python, of course (https://www.python.org/)\n",
    "    - a few years ago there was a change from the the Python 2, series to the Python 3 series\n",
    "    - Now the recomendation is just go with Python 3.6 \n",
    "+ Pandas (http://pandas.pydata.org/)\n",
    "    - Main data manipulation library, mostly using DataFrames (think Excel on steroids)\n",
    "    - Many IO capabilities GBQ, S-3, Parquet, SQL, CSV, JSON, And web data (stock prices and financial data)\n",
    "    - Built on top of Numpy  \n",
    "    "
   ]
  },
  {
   "cell_type": "markdown",
   "metadata": {
    "slideshow": {
     "slide_type": "slide"
    }
   },
   "source": [
    "+ Numpy (http://www.numpy.org/)\n",
    "    - High performance numerical library particularly array and matrix oriented    \n",
    "+ Matplotlib (https://matplotlib.org/)\n",
    "    - the grand daddy of Python Plotting libraries, many other libraries build on it to simplify and or stylize it \n",
    "+ Sci-kit Learn (http://scikit-learn.org/stable/)\n",
    "    - A collection of libraries for almost all types of machine learning with consitant API's and supporting libraries  "
   ]
  },
  {
   "cell_type": "markdown",
   "metadata": {
    "slideshow": {
     "slide_type": "slide"
    }
   },
   "source": [
    "+ TensorFlow (https://www.tensorflow.org/)\n",
    "    - Google's open source numerical computing library\n",
    "    - on which they have built and released a large number of machine learning components\n",
    "    - along with a number of supporting components (I/O, encoding, serving etc)\n",
    "+ Keras (https://keras.io/)(https://www.tensorflow.org/api_docs/python/tf/contrib/keras)\n",
    "    - a simplified interface to many Machine learning libraries, also incorporated into TensorFlow\n",
    "    - supports Theano, Cntk, Pytorch (and more on the way)"
   ]
  },
  {
   "cell_type": "markdown",
   "metadata": {
    "slideshow": {
     "slide_type": "slide"
    }
   },
   "source": [
    "+ StatsModels (http://www.statsmodels.org/stable/index.html)(https://patsy.readthedocs.io/en/latest/)\n",
    "    - many statistical techniques and the Patsy statistical language (much like R)\n",
    "+ PyMC3 (https://pymc-devs.github.io/pymc3/index.html)\n",
    "    - Baysian Modeling library (in many ways comparable to Stan but newer)"
   ]
  },
  {
   "cell_type": "markdown",
   "metadata": {
    "slideshow": {
     "slide_type": "slide"
    }
   },
   "source": [
    "## Jupyter\n",
    "+ (http://jupyter.org/)\n",
    "+ What this notebook is done with\n",
    "+ has become a common format for \"open data Science\"\n",
    "+ has also become a great method for shaing code and documentation throughout the Python community\n",
    "+ supports many other languages, or Kernels R, Julia (a newer stats language) Go, Ruby ++ In many cases allows easier interoperabilitty between them"
   ]
  },
  {
   "cell_type": "markdown",
   "metadata": {
    "slideshow": {
     "slide_type": "slide"
    }
   },
   "source": [
    "# Anaconda\n",
    "+ (https://www.continuum.io/anaconda-overview)\n",
    "+ All of the above,(150+ libraries), (except TensorFlow/Keras) and much more is auto installed for you using the Anaconda distribution including a nice IDE, Spyder\n",
    "+ As a bonus you get a faster than \"Normal\" version of Python with Intel MKL extensions built in\n",
    "   - Speed-boosted NumPy, SciPy, scikit-learn, and NumExpr\n",
    "   - The packaging of MKL with redistributable binaries in Anaconda for easy access to the MKL runtime library.\n",
    "   - Python bindings to the low level MKL service functions, which allow for the modification of the number of threads being used during runtime.\n"
   ]
  },
  {
   "cell_type": "markdown",
   "metadata": {
    "slideshow": {
     "slide_type": "slide"
    }
   },
   "source": [
    "# Books\n",
    "+ Python Machine Learning by Sebastian Raschka  https://www.packtpub.com/big-data-and-business-intelligence/python-machine-learning Primarily Sci-Kit learn Highly Recommeded!\n",
    "+ Hands-On Machine Learning with Scikit-Learn and TensorFlow by Aurélien Géron http://shop.oreilly.com/product/0636920052289.do\n",
    "+ Deep Learning with Python by Francois Chollet https://www.manning.com/books/deep-learning-with-python "
   ]
  },
  {
   "cell_type": "markdown",
   "metadata": {
    "slideshow": {
     "slide_type": "slide"
    }
   },
   "source": [
    "# Three More Tips\n",
    "+ CSVKIT (https://csvkit.readthedocs.io/en/1.0.2/)\n",
    "+ Pandas profiling (https://github.com/JosPolfliet/pandas-profiling)\n",
    "+ Kaggle (https://www.kaggle.com/)"
   ]
  },
  {
   "cell_type": "code",
   "execution_count": null,
   "metadata": {
    "collapsed": true
   },
   "outputs": [],
   "source": []
  }
 ],
 "metadata": {
  "celltoolbar": "Slideshow",
  "kernelspec": {
   "display_name": "Python [conda env:py36n]",
   "language": "python",
   "name": "conda-env-py36n-py"
  },
  "language_info": {
   "codemirror_mode": {
    "name": "ipython",
    "version": 3
   },
   "file_extension": ".py",
   "mimetype": "text/x-python",
   "name": "python",
   "nbconvert_exporter": "python",
   "pygments_lexer": "ipython3",
   "version": "3.6.1"
  }
 },
 "nbformat": 4,
 "nbformat_minor": 2
}
